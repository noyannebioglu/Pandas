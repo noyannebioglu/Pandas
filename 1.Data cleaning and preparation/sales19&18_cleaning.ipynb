{
 "cells": [
  {
   "cell_type": "markdown",
   "metadata": {},
   "source": [
    "## 1.1 Overview of a DataFrame"
   ]
  },
  {
   "cell_type": "code",
   "execution_count": 1,
   "metadata": {},
   "outputs": [],
   "source": [
    "import pandas as pd"
   ]
  },
  {
   "cell_type": "code",
   "execution_count": 2,
   "metadata": {},
   "outputs": [
    {
     "name": "stdout",
     "output_type": "stream",
     "text": [
      "number of rows and columns in sales18 (22795, 16)\n",
      "number of rows and columns in sales18 (47239, 16)\n"
     ]
    }
   ],
   "source": [
    "df18 = pd.read_csv(\"/Users/noyannebioglu/Documents/sales2018N.csv\")\n",
    "df19 = pd.read_csv(\"/Users/noyannebioglu/Documents/sales2019N.csv\")\n",
    "#Checking the base number of columns and rows.\n",
    "print(\"number of rows and columns in sales18\", df18.shape)\n",
    "print(\"number of rows and columns in sales18\", df19.shape)"
   ]
  },
  {
   "cell_type": "code",
   "execution_count": 3,
   "metadata": {},
   "outputs": [
    {
     "data": {
      "text/html": [
       "<div>\n",
       "<style scoped>\n",
       "    .dataframe tbody tr th:only-of-type {\n",
       "        vertical-align: middle;\n",
       "    }\n",
       "\n",
       "    .dataframe tbody tr th {\n",
       "        vertical-align: top;\n",
       "    }\n",
       "\n",
       "    .dataframe thead th {\n",
       "        text-align: right;\n",
       "    }\n",
       "</style>\n",
       "<table border=\"1\" class=\"dataframe\">\n",
       "  <thead>\n",
       "    <tr style=\"text-align: right;\">\n",
       "      <th></th>\n",
       "      <th>order_id</th>\n",
       "      <th>product_id</th>\n",
       "      <th>store_id</th>\n",
       "      <th>order_date</th>\n",
       "      <th>order_date_2</th>\n",
       "      <th>sales</th>\n",
       "      <th>revenue</th>\n",
       "      <th>stock</th>\n",
       "      <th>price</th>\n",
       "      <th>promo_type_1</th>\n",
       "      <th>promo_bin_1</th>\n",
       "      <th>promo_type_2</th>\n",
       "      <th>promo_bin_2</th>\n",
       "      <th>promo_discount_2</th>\n",
       "      <th>delivery_date_format1</th>\n",
       "      <th>delivery_date_format2</th>\n",
       "    </tr>\n",
       "  </thead>\n",
       "  <tbody>\n",
       "    <tr>\n",
       "      <th>0</th>\n",
       "      <td>40911</td>\n",
       "      <td>P0392</td>\n",
       "      <td>S0001</td>\n",
       "      <td>1/1/2019</td>\n",
       "      <td>1-Jan-19</td>\n",
       "      <td>0.0</td>\n",
       "      <td>0.00</td>\n",
       "      <td>3.0</td>\n",
       "      <td>124.99</td>\n",
       "      <td>PR14</td>\n",
       "      <td>NaN</td>\n",
       "      <td>PR03</td>\n",
       "      <td>NaN</td>\n",
       "      <td>NaN</td>\n",
       "      <td>1/3/2019</td>\n",
       "      <td>3/1/2019</td>\n",
       "    </tr>\n",
       "    <tr>\n",
       "      <th>1</th>\n",
       "      <td>40912</td>\n",
       "      <td>P0018</td>\n",
       "      <td>S0071</td>\n",
       "      <td>1/1/2019</td>\n",
       "      <td>1-Jan-19</td>\n",
       "      <td>0.0</td>\n",
       "      <td>0.00</td>\n",
       "      <td>4.0</td>\n",
       "      <td>3.25</td>\n",
       "      <td>PR03</td>\n",
       "      <td>verylow</td>\n",
       "      <td>PR03</td>\n",
       "      <td>NaN</td>\n",
       "      <td>NaN</td>\n",
       "      <td>1/3/2019</td>\n",
       "      <td>3/1/2019</td>\n",
       "    </tr>\n",
       "    <tr>\n",
       "      <th>2</th>\n",
       "      <td>40913</td>\n",
       "      <td>P0565</td>\n",
       "      <td>S0096</td>\n",
       "      <td>1/1/2019</td>\n",
       "      <td>1-Jan-19</td>\n",
       "      <td>0.0</td>\n",
       "      <td>0.00</td>\n",
       "      <td>12.0</td>\n",
       "      <td>4.25</td>\n",
       "      <td>PR14</td>\n",
       "      <td>NaN</td>\n",
       "      <td>PR03</td>\n",
       "      <td>NaN</td>\n",
       "      <td>NaN</td>\n",
       "      <td>1/4/2019</td>\n",
       "      <td>4/1/2019</td>\n",
       "    </tr>\n",
       "    <tr>\n",
       "      <th>3</th>\n",
       "      <td>40914</td>\n",
       "      <td>P0372</td>\n",
       "      <td>S0121</td>\n",
       "      <td>1/1/2019</td>\n",
       "      <td>1-Jan-19</td>\n",
       "      <td>0.0</td>\n",
       "      <td>0.00</td>\n",
       "      <td>24.0</td>\n",
       "      <td>4.90</td>\n",
       "      <td>PR14</td>\n",
       "      <td>NaN</td>\n",
       "      <td>PR03</td>\n",
       "      <td>NaN</td>\n",
       "      <td>NaN</td>\n",
       "      <td>1/3/2019</td>\n",
       "      <td>3/1/2019</td>\n",
       "    </tr>\n",
       "    <tr>\n",
       "      <th>4</th>\n",
       "      <td>40915</td>\n",
       "      <td>P0543</td>\n",
       "      <td>S0101</td>\n",
       "      <td>1/1/2019</td>\n",
       "      <td>1-Jan-19</td>\n",
       "      <td>2.0</td>\n",
       "      <td>7.41</td>\n",
       "      <td>11.0</td>\n",
       "      <td>4.00</td>\n",
       "      <td>PR14</td>\n",
       "      <td>NaN</td>\n",
       "      <td>PR03</td>\n",
       "      <td>NaN</td>\n",
       "      <td>NaN</td>\n",
       "      <td>1/5/2019</td>\n",
       "      <td>5/1/2019</td>\n",
       "    </tr>\n",
       "  </tbody>\n",
       "</table>\n",
       "</div>"
      ],
      "text/plain": [
       "   order_id product_id store_id order_date order_date_2  sales  revenue  \\\n",
       "0     40911      P0392    S0001   1/1/2019     1-Jan-19    0.0     0.00   \n",
       "1     40912      P0018    S0071   1/1/2019     1-Jan-19    0.0     0.00   \n",
       "2     40913      P0565    S0096   1/1/2019     1-Jan-19    0.0     0.00   \n",
       "3     40914      P0372    S0121   1/1/2019     1-Jan-19    0.0     0.00   \n",
       "4     40915      P0543    S0101   1/1/2019     1-Jan-19    2.0     7.41   \n",
       "\n",
       "   stock   price promo_type_1 promo_bin_1 promo_type_2 promo_bin_2  \\\n",
       "0    3.0  124.99         PR14         NaN         PR03         NaN   \n",
       "1    4.0    3.25         PR03     verylow         PR03         NaN   \n",
       "2   12.0    4.25         PR14         NaN         PR03         NaN   \n",
       "3   24.0    4.90         PR14         NaN         PR03         NaN   \n",
       "4   11.0    4.00         PR14         NaN         PR03         NaN   \n",
       "\n",
       "   promo_discount_2 delivery_date_format1 delivery_date_format2  \n",
       "0               NaN              1/3/2019              3/1/2019  \n",
       "1               NaN              1/3/2019              3/1/2019  \n",
       "2               NaN              1/4/2019              4/1/2019  \n",
       "3               NaN              1/3/2019              3/1/2019  \n",
       "4               NaN              1/5/2019              5/1/2019  "
      ]
     },
     "execution_count": 3,
     "metadata": {},
     "output_type": "execute_result"
    }
   ],
   "source": [
    "df19.head()"
   ]
  },
  {
   "cell_type": "markdown",
   "metadata": {},
   "source": [
    "1.1.2 number of null values"
   ]
  },
  {
   "cell_type": "code",
   "execution_count": 4,
   "metadata": {},
   "outputs": [
    {
     "data": {
      "text/plain": [
       "order_id                     0\n",
       "product_id                   0\n",
       "store_id                     0\n",
       "order_date                   0\n",
       "order_date_2                 0\n",
       "sales                     8130\n",
       "revenue                   8130\n",
       "stock                     8130\n",
       "price                      356\n",
       "promo_type_1                 0\n",
       "promo_bin_1              39258\n",
       "promo_type_2                 0\n",
       "promo_bin_2              46859\n",
       "promo_discount_2         46859\n",
       "delivery_date_format1        0\n",
       "delivery_date_format2        0\n",
       "dtype: int64"
      ]
     },
     "execution_count": 4,
     "metadata": {},
     "output_type": "execute_result"
    }
   ],
   "source": [
    "df19.isnull().sum()"
   ]
  },
  {
   "cell_type": "code",
   "execution_count": 5,
   "metadata": {},
   "outputs": [
    {
     "data": {
      "text/plain": [
       "order_id                     0\n",
       "product_id                   0\n",
       "store_id                     0\n",
       "order_date                   0\n",
       "order_date_2                 0\n",
       "sales                        0\n",
       "revenue                      0\n",
       "stock                        0\n",
       "price                     1134\n",
       "promo_type_1                 0\n",
       "promo_bin_1              19976\n",
       "promo_type_2                 0\n",
       "promo_bin_2              22795\n",
       "promo_discount_2         22795\n",
       "delivery_date_format1        0\n",
       "delivery_date_format2        0\n",
       "dtype: int64"
      ]
     },
     "execution_count": 5,
     "metadata": {},
     "output_type": "execute_result"
    }
   ],
   "source": [
    "df18.isnull().sum()"
   ]
  },
  {
   "cell_type": "markdown",
   "metadata": {},
   "source": [
    "## 1.1.2 Duplicate values"
   ]
  },
  {
   "cell_type": "code",
   "execution_count": 29,
   "metadata": {},
   "outputs": [
    {
     "data": {
      "text/plain": [
       "0"
      ]
     },
     "execution_count": 29,
     "metadata": {},
     "output_type": "execute_result"
    }
   ],
   "source": [
    "#number of duplicate values\n",
    "len(df18)-len(df18.drop_duplicates())"
   ]
  },
  {
   "cell_type": "code",
   "execution_count": 30,
   "metadata": {},
   "outputs": [
    {
     "data": {
      "text/plain": [
       "0"
      ]
     },
     "execution_count": 30,
     "metadata": {},
     "output_type": "execute_result"
    }
   ],
   "source": [
    "len(df19)-len(df19.drop_duplicates())"
   ]
  },
  {
   "cell_type": "markdown",
   "metadata": {},
   "source": [
    "## 1.1.4 Dropping columns"
   ]
  },
  {
   "cell_type": "code",
   "execution_count": 7,
   "metadata": {},
   "outputs": [],
   "source": [
    "toDrop = [\"promo_bin_1\", \"promo_bin_2\", \"promo_discount_2\"]\n",
    "df18.drop(toDrop, axis=1, inplace=True)"
   ]
  },
  {
   "cell_type": "code",
   "execution_count": 8,
   "metadata": {},
   "outputs": [],
   "source": [
    "toDrop = [\"promo_bin_1\", \"promo_bin_2\", \"promo_discount_2\"]\n",
    "df19.drop(toDrop, axis=1, inplace=True)"
   ]
  },
  {
   "cell_type": "code",
   "execution_count": 32,
   "metadata": {},
   "outputs": [
    {
     "data": {
      "text/plain": [
       "Index(['order_id', 'product_id', 'store_id', 'order_date', 'order_date_2',\n",
       "       'sales', 'revenue', 'stock', 'price', 'promo_type_1', 'promo_type_2',\n",
       "       'delivery_date_format1', 'delivery_date_format2'],\n",
       "      dtype='object')"
      ]
     },
     "execution_count": 32,
     "metadata": {},
     "output_type": "execute_result"
    }
   ],
   "source": [
    "#Column names\n",
    "df19.columns"
   ]
  },
  {
   "cell_type": "code",
   "execution_count": 10,
   "metadata": {},
   "outputs": [
    {
     "name": "stdout",
     "output_type": "stream",
     "text": [
      "0\n"
     ]
    }
   ],
   "source": [
    "#Number of duplicates\n",
    "print(df19.duplicated().sum())"
   ]
  },
  {
   "cell_type": "code",
   "execution_count": 11,
   "metadata": {},
   "outputs": [
    {
     "name": "stdout",
     "output_type": "stream",
     "text": [
      "0\n"
     ]
    }
   ],
   "source": [
    "print(df18.duplicated().sum())"
   ]
  },
  {
   "cell_type": "markdown",
   "metadata": {},
   "source": [
    "## 1.1.5 Dealing with missing values"
   ]
  },
  {
   "cell_type": "code",
   "execution_count": 33,
   "metadata": {},
   "outputs": [
    {
     "data": {
      "text/plain": [
       "False"
      ]
     },
     "execution_count": 33,
     "metadata": {},
     "output_type": "execute_result"
    }
   ],
   "source": [
    "#Is there any null values in Dataframe?\n",
    "df19.isnull().values.any()\n"
   ]
  },
  {
   "cell_type": "code",
   "execution_count": 14,
   "metadata": {},
   "outputs": [
    {
     "data": {
      "text/plain": [
       "True"
      ]
     },
     "execution_count": 14,
     "metadata": {},
     "output_type": "execute_result"
    }
   ],
   "source": [
    "df18.isnull().values.any()"
   ]
  },
  {
   "cell_type": "code",
   "execution_count": 15,
   "metadata": {},
   "outputs": [],
   "source": [
    "#Calculating the percentage of null data in each column\n",
    "null_counts = df18.isnull().sum()"
   ]
  },
  {
   "cell_type": "code",
   "execution_count": 16,
   "metadata": {},
   "outputs": [],
   "source": [
    "null_cts_df18 = null_counts / df18.shape[0] * 100"
   ]
  },
  {
   "cell_type": "code",
   "execution_count": 17,
   "metadata": {},
   "outputs": [
    {
     "data": {
      "text/plain": [
       "order_id                 0.000000\n",
       "product_id               0.000000\n",
       "store_id                 0.000000\n",
       "order_date               0.000000\n",
       "order_date_2             0.000000\n",
       "sales                    0.000000\n",
       "revenue                  0.000000\n",
       "stock                    0.000000\n",
       "price                    4.974775\n",
       "promo_type_1             0.000000\n",
       "promo_type_2             0.000000\n",
       "delivery_date_format1    0.000000\n",
       "delivery_date_format2    0.000000\n",
       "dtype: float64"
      ]
     },
     "execution_count": 17,
     "metadata": {},
     "output_type": "execute_result"
    }
   ],
   "source": [
    "null_cts_df18"
   ]
  },
  {
   "cell_type": "code",
   "execution_count": 18,
   "metadata": {},
   "outputs": [],
   "source": [
    "#Calculating the percentage of null data in each column\n",
    "null_counts = df19.isnull().sum()"
   ]
  },
  {
   "cell_type": "code",
   "execution_count": 19,
   "metadata": {},
   "outputs": [],
   "source": [
    "null_cts_df19 = null_counts / df19.shape[0] * 100 #The percentage of null data in columns"
   ]
  },
  {
   "cell_type": "code",
   "execution_count": 20,
   "metadata": {},
   "outputs": [
    {
     "data": {
      "text/plain": [
       "order_id                  0.000000\n",
       "product_id                0.000000\n",
       "store_id                  0.000000\n",
       "order_date                0.000000\n",
       "order_date_2              0.000000\n",
       "sales                    17.210356\n",
       "revenue                  17.210356\n",
       "stock                    17.210356\n",
       "price                     0.753615\n",
       "promo_type_1              0.000000\n",
       "promo_type_2              0.000000\n",
       "delivery_date_format1     0.000000\n",
       "delivery_date_format2     0.000000\n",
       "dtype: float64"
      ]
     },
     "execution_count": 20,
     "metadata": {},
     "output_type": "execute_result"
    }
   ],
   "source": [
    "null_cts_df19"
   ]
  },
  {
   "cell_type": "code",
   "execution_count": 21,
   "metadata": {},
   "outputs": [
    {
     "name": "stdout",
     "output_type": "stream",
     "text": [
      "Number of missing values in DF >>> 24746\n"
     ]
    }
   ],
   "source": [
    "#Total NO of Missings\n",
    "print(\"Number of missing values in DF >>>\", df19.isna().sum().sum())"
   ]
  },
  {
   "cell_type": "code",
   "execution_count": 22,
   "metadata": {},
   "outputs": [
    {
     "name": "stdout",
     "output_type": "stream",
     "text": [
      "Number of missing values in DF >>> 1134\n"
     ]
    }
   ],
   "source": [
    "#Total NO of Missings\n",
    "print(\"Number of missing values in DF >>>\", df18.isna().sum().sum())"
   ]
  },
  {
   "cell_type": "code",
   "execution_count": 23,
   "metadata": {},
   "outputs": [],
   "source": [
    "df18[\"price\"].fillna(df18[\"price\"].mean(), inplace=True)\n",
    "df18[\"stock\"].fillna(df18[\"stock\"].mean(), inplace=True)\n",
    "df18[\"revenue\"].fillna(df18[\"revenue\"].mean(), inplace=True)\n",
    "df18[\"sales\"].fillna(df18[\"revenue\"].mean(), inplace=True)"
   ]
  },
  {
   "cell_type": "code",
   "execution_count": 24,
   "metadata": {},
   "outputs": [],
   "source": [
    "df19[\"price\"].fillna(df19[\"price\"].mean(), inplace=True)\n",
    "df19[\"stock\"].fillna(df19[\"stock\"].mean(), inplace=True)\n",
    "df19[\"revenue\"].fillna(df19[\"revenue\"].mean(), inplace=True)\n",
    "df19[\"sales\"].fillna(df19[\"revenue\"].mean(), inplace=True)"
   ]
  },
  {
   "cell_type": "code",
   "execution_count": 25,
   "metadata": {},
   "outputs": [
    {
     "name": "stdout",
     "output_type": "stream",
     "text": [
      "Number of missing values in DF >>> 0\n"
     ]
    }
   ],
   "source": [
    "#Total NO of Missings\n",
    "print(\"Number of missing values in DF >>>\", df19.isna().sum().sum())"
   ]
  },
  {
   "cell_type": "code",
   "execution_count": 26,
   "metadata": {},
   "outputs": [
    {
     "name": "stdout",
     "output_type": "stream",
     "text": [
      "Number of missing values in DF >>> 0\n"
     ]
    }
   ],
   "source": [
    "print(\"Number of missing values in DF >>>\", df18.isna().sum().sum())"
   ]
  },
  {
   "cell_type": "code",
   "execution_count": 27,
   "metadata": {},
   "outputs": [
    {
     "data": {
      "text/html": [
       "<div>\n",
       "<style scoped>\n",
       "    .dataframe tbody tr th:only-of-type {\n",
       "        vertical-align: middle;\n",
       "    }\n",
       "\n",
       "    .dataframe tbody tr th {\n",
       "        vertical-align: top;\n",
       "    }\n",
       "\n",
       "    .dataframe thead th {\n",
       "        text-align: right;\n",
       "    }\n",
       "</style>\n",
       "<table border=\"1\" class=\"dataframe\">\n",
       "  <thead>\n",
       "    <tr style=\"text-align: right;\">\n",
       "      <th></th>\n",
       "      <th>order_id</th>\n",
       "      <th>sales</th>\n",
       "      <th>revenue</th>\n",
       "      <th>stock</th>\n",
       "      <th>price</th>\n",
       "    </tr>\n",
       "  </thead>\n",
       "  <tbody>\n",
       "    <tr>\n",
       "      <th>count</th>\n",
       "      <td>47239.00000</td>\n",
       "      <td>47239.000000</td>\n",
       "      <td>47239.000000</td>\n",
       "      <td>47239.000000</td>\n",
       "      <td>47239.000000</td>\n",
       "    </tr>\n",
       "    <tr>\n",
       "      <th>mean</th>\n",
       "      <td>64530.00000</td>\n",
       "      <td>0.727332</td>\n",
       "      <td>2.407092</td>\n",
       "      <td>15.225981</td>\n",
       "      <td>20.192285</td>\n",
       "    </tr>\n",
       "    <tr>\n",
       "      <th>std</th>\n",
       "      <td>13636.86902</td>\n",
       "      <td>1.865780</td>\n",
       "      <td>20.336725</td>\n",
       "      <td>52.089898</td>\n",
       "      <td>39.870367</td>\n",
       "    </tr>\n",
       "    <tr>\n",
       "      <th>min</th>\n",
       "      <td>40911.00000</td>\n",
       "      <td>0.000000</td>\n",
       "      <td>0.000000</td>\n",
       "      <td>0.000000</td>\n",
       "      <td>0.010000</td>\n",
       "    </tr>\n",
       "    <tr>\n",
       "      <th>25%</th>\n",
       "      <td>52720.50000</td>\n",
       "      <td>0.000000</td>\n",
       "      <td>0.000000</td>\n",
       "      <td>4.000000</td>\n",
       "      <td>4.250000</td>\n",
       "    </tr>\n",
       "    <tr>\n",
       "      <th>50%</th>\n",
       "      <td>64530.00000</td>\n",
       "      <td>0.000000</td>\n",
       "      <td>0.000000</td>\n",
       "      <td>10.000000</td>\n",
       "      <td>10.500000</td>\n",
       "    </tr>\n",
       "    <tr>\n",
       "      <th>75%</th>\n",
       "      <td>76339.50000</td>\n",
       "      <td>1.000000</td>\n",
       "      <td>2.407092</td>\n",
       "      <td>15.225981</td>\n",
       "      <td>21.900000</td>\n",
       "    </tr>\n",
       "    <tr>\n",
       "      <th>max</th>\n",
       "      <td>88149.00000</td>\n",
       "      <td>82.000000</td>\n",
       "      <td>2497.960000</td>\n",
       "      <td>3993.000000</td>\n",
       "      <td>1549.000000</td>\n",
       "    </tr>\n",
       "  </tbody>\n",
       "</table>\n",
       "</div>"
      ],
      "text/plain": [
       "          order_id         sales       revenue         stock         price\n",
       "count  47239.00000  47239.000000  47239.000000  47239.000000  47239.000000\n",
       "mean   64530.00000      0.727332      2.407092     15.225981     20.192285\n",
       "std    13636.86902      1.865780     20.336725     52.089898     39.870367\n",
       "min    40911.00000      0.000000      0.000000      0.000000      0.010000\n",
       "25%    52720.50000      0.000000      0.000000      4.000000      4.250000\n",
       "50%    64530.00000      0.000000      0.000000     10.000000     10.500000\n",
       "75%    76339.50000      1.000000      2.407092     15.225981     21.900000\n",
       "max    88149.00000     82.000000   2497.960000   3993.000000   1549.000000"
      ]
     },
     "execution_count": 27,
     "metadata": {},
     "output_type": "execute_result"
    }
   ],
   "source": [
    "df19.describe()"
   ]
  },
  {
   "cell_type": "markdown",
   "metadata": {},
   "source": [
    "## 1.1.6 Converting datatypes"
   ]
  },
  {
   "cell_type": "code",
   "execution_count": 35,
   "metadata": {},
   "outputs": [],
   "source": [
    "#cols = data.columns[7:12]\n",
    "#data[cols] = data[cols].apply(pd.to_datetime, errors='coerce')"
   ]
  },
  {
   "cell_type": "code",
   "execution_count": 43,
   "metadata": {},
   "outputs": [],
   "source": [
    "#Changing with apply method\n",
    "cols = df18.columns[[3,4,11,12]]\n",
    "df18[cols] = df18[cols].apply(pd.to_datetime, errors='coerce')"
   ]
  },
  {
   "cell_type": "code",
   "execution_count": 51,
   "metadata": {},
   "outputs": [
    {
     "name": "stdout",
     "output_type": "stream",
     "text": [
      "<class 'pandas.core.frame.DataFrame'>\n",
      "RangeIndex: 22795 entries, 0 to 22794\n",
      "Data columns (total 13 columns):\n",
      " #   Column                 Non-Null Count  Dtype         \n",
      "---  ------                 --------------  -----         \n",
      " 0   order_id               22795 non-null  int64         \n",
      " 1   product_id             22795 non-null  object        \n",
      " 2   store_id               22795 non-null  object        \n",
      " 3   order_date             22795 non-null  datetime64[ns]\n",
      " 4   order_date_2           22795 non-null  datetime64[ns]\n",
      " 5   sales                  22795 non-null  float64       \n",
      " 6   revenue                22795 non-null  float64       \n",
      " 7   stock                  22795 non-null  float64       \n",
      " 8   price                  22795 non-null  float64       \n",
      " 9   promo_type_1           22795 non-null  object        \n",
      " 10  promo_type_2           22795 non-null  object        \n",
      " 11  delivery_date_format1  22795 non-null  datetime64[ns]\n",
      " 12  delivery_date_format2  22795 non-null  datetime64[ns]\n",
      "dtypes: datetime64[ns](4), float64(4), int64(1), object(4)\n",
      "memory usage: 2.3+ MB\n"
     ]
    }
   ],
   "source": [
    "df18.info()"
   ]
  },
  {
   "cell_type": "code",
   "execution_count": 59,
   "metadata": {},
   "outputs": [],
   "source": [
    "#Changing manually\n",
    "df19[\"order_date_2\"] = pd.to_datetime(df19[\"order_date_2\"])\n",
    "df19[\"order_date\"] = pd.to_datetime(df19[\"order_date\"])\n",
    "df19[\"delivery_date_format1\"] = pd.to_datetime(df19[\"delivery_date_format1\"])\n",
    "df19[\"delivery_date_format2\"] = pd.to_datetime(df19[\"delivery_date_format2\"])"
   ]
  },
  {
   "cell_type": "code",
   "execution_count": 60,
   "metadata": {},
   "outputs": [
    {
     "name": "stdout",
     "output_type": "stream",
     "text": [
      "<class 'pandas.core.frame.DataFrame'>\n",
      "RangeIndex: 47239 entries, 0 to 47238\n",
      "Data columns (total 13 columns):\n",
      " #   Column                 Non-Null Count  Dtype         \n",
      "---  ------                 --------------  -----         \n",
      " 0   order_id               47239 non-null  int64         \n",
      " 1   product_id             47239 non-null  object        \n",
      " 2   store_id               47239 non-null  object        \n",
      " 3   order_date             47239 non-null  datetime64[ns]\n",
      " 4   order_date_2           47239 non-null  datetime64[ns]\n",
      " 5   sales                  47239 non-null  float64       \n",
      " 6   revenue                47239 non-null  float64       \n",
      " 7   stock                  47239 non-null  float64       \n",
      " 8   price                  47239 non-null  float64       \n",
      " 9   promo_type_1           47239 non-null  object        \n",
      " 10  promo_type_2           47239 non-null  object        \n",
      " 11  delivery_date_format1  47239 non-null  datetime64[ns]\n",
      " 12  delivery_date_format2  47239 non-null  datetime64[ns]\n",
      "dtypes: datetime64[ns](4), float64(4), int64(1), object(4)\n",
      "memory usage: 4.7+ MB\n"
     ]
    }
   ],
   "source": [
    "df19.info()"
   ]
  },
  {
   "cell_type": "markdown",
   "metadata": {},
   "source": [
    "#### The format of \"delivery_date_format2\" date object was different that other dates, but pandas fixing the issue\n",
    "#### when we converting strings to datetime object"
   ]
  },
  {
   "cell_type": "code",
   "execution_count": 69,
   "metadata": {},
   "outputs": [],
   "source": [
    "#df[\"order_date_2\"] = pd.to_datetime(df[\"order_date_2\"], format=\"%m/%d/%Y\")"
   ]
  },
  {
   "cell_type": "code",
   "execution_count": null,
   "metadata": {},
   "outputs": [],
   "source": []
  }
 ],
 "metadata": {
  "kernelspec": {
   "display_name": "Python 3",
   "language": "python",
   "name": "python3"
  },
  "language_info": {
   "codemirror_mode": {
    "name": "ipython",
    "version": 3
   },
   "file_extension": ".py",
   "mimetype": "text/x-python",
   "name": "python",
   "nbconvert_exporter": "python",
   "pygments_lexer": "ipython3",
   "version": "3.7.6"
  }
 },
 "nbformat": 4,
 "nbformat_minor": 4
}
